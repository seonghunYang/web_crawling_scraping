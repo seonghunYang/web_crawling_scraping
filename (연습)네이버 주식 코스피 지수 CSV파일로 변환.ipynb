{
 "cells": [
  {
   "cell_type": "code",
   "execution_count": 1,
   "metadata": {},
   "outputs": [],
   "source": [
    "import requests, csv\n",
    "from bs4 import BeautifulSoup"
   ]
  },
  {
   "cell_type": "code",
   "execution_count": 25,
   "metadata": {
    "scrolled": false
   },
   "outputs": [],
   "source": [
    "url= \"https://finance.naver.com/sise/sise_market_sum.nhn?sosok=0&page=\"\n",
    "\n",
    "filename = '시가총액1-200.csv'\n",
    "f = open(filename, \"w\", encoding=\"utf-8-sig\", newline=\"\")\n",
    "writer = csv.writer(f)\n",
    "\n",
    "meters = soup.find(\"table\", attrs={\"class\":\"type_2\"}).find(\"thead\").find(\"tr\").find_all(\"th\")\n",
    "meter = [meter.get_text() for meter in meters]\n",
    "writer.writerow(meter)\n",
    "\n",
    "for page in range(1, 5):\n",
    "    res = requests.get(url + str(page))\n",
    "    res.raise_for_status()\n",
    "    soup = BeautifulSoup(res.text, \"lxml\")\n",
    "    \n",
    "    data_rows = soup.find(\"table\", attrs={\"class\":\"type_2\"}).find(\"tbody\").find_all(\"tr\")\n",
    "    for row in data_rows:\n",
    "        columns = row.find_all(\"td\")\n",
    "        if len(columns) <= 1:\n",
    "            continue\n",
    "        data = [column.get_text().strip() for column in columns ]\n",
    "        writer.writerow(data)"
   ]
  },
  {
   "cell_type": "code",
   "execution_count": null,
   "metadata": {},
   "outputs": [],
   "source": []
  }
 ],
 "metadata": {
  "kernelspec": {
   "display_name": "Python 3",
   "language": "python",
   "name": "python3"
  },
  "language_info": {
   "codemirror_mode": {
    "name": "ipython",
    "version": 3
   },
   "file_extension": ".py",
   "mimetype": "text/x-python",
   "name": "python",
   "nbconvert_exporter": "python",
   "pygments_lexer": "ipython3",
   "version": "3.7.3"
  }
 },
 "nbformat": 4,
 "nbformat_minor": 4
}
