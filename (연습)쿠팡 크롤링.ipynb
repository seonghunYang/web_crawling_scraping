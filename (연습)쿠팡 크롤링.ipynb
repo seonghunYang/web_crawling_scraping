{
 "cells": [
  {
   "cell_type": "code",
   "execution_count": 1,
   "metadata": {},
   "outputs": [],
   "source": [
    "import requests\n",
    "from bs4 import BeautifulSoup"
   ]
  },
  {
   "cell_type": "code",
   "execution_count": 2,
   "metadata": {},
   "outputs": [],
   "source": [
    "url = \"https://www.coupang.com/np/search?q=%EB%85%B8%ED%8A%B8%EB%B6%81&channel=user&component=&eventCategory=SRP&trcid=&traid=&sorter=scoreDesc&minPrice=&maxPrice=&priceRange=&filterType=&listSize=36&filter=&isPriceRange=false&brand=&offerCondition=&rating=0&page=1&rocketAll=false&searchIndexingToken=&backgroundColor=\"\n",
    "headers= {\"User-Agent\":\"Mozilla/5.0 (Windows NT 10.0; Win64; x64) AppleWebKit/537.36 (KHTML, like Gecko) Chrome/89.0.4389.114 Safari/537.36\"}"
   ]
  },
  {
   "cell_type": "code",
   "execution_count": 3,
   "metadata": {},
   "outputs": [],
   "source": [
    "res = requests.get(url, headers=headers)\n",
    "res.raise_for_status()\n",
    "soup = BeautifulSoup(res.text, \"lxml\")"
   ]
  },
  {
   "cell_type": "code",
   "execution_count": 4,
   "metadata": {},
   "outputs": [],
   "source": [
    "import re\n",
    "items = soup.find_all(\"li\", attrs={\"class\": re.compile(\"^search-product\")})"
   ]
  },
  {
   "cell_type": "code",
   "execution_count": 6,
   "metadata": {
    "scrolled": false
   },
   "outputs": [
    {
     "name": "stdout",
     "output_type": "stream",
     "text": [
      "삼성전자 퓨어 화이트 노트북 NT350XCR-AD5WA-X (i5-10210U 39.6cm), 윈도우 포함, 256GB, 16GB\n"
     ]
    }
   ],
   "source": [
    "print(items[0].find(\"div\", attrs={\"class\":\"name\"}).get_text())"
   ]
  },
  {
   "cell_type": "code",
   "execution_count": 8,
   "metadata": {},
   "outputs": [
    {
     "name": "stdout",
     "output_type": "stream",
     "text": [
      " <광고 상품 제외합니다>\n",
      "삼성전자 노트북9 METAL NT901X5L 가볍고 슬림한 1.29kg 코어i5 SSD256GB 윈10 탑재, 포함, SSD 256GB, 8GB 676,000\n",
      "Apple 2020년 맥북 에어 13, M1 8-Core, 8GB, SSD 256GB, 스페이스 그레이 1,248,780\n",
      "레노버 아이디어패드 Platinum Grey 노트북 S150-11 81VT (Intel Celeron N4020 29.5cm WIN10 Home S), 윈도우 포함, 64GB, 4GB 286,420\n",
      " <광고 상품 제외합니다>\n",
      " <광고 상품 제외합니다>\n",
      "Apple 2020년 맥북 에어 13, M1 8-Core, 8GB, SSD 256GB, 실버 1,218,450\n",
      "삼성전자 플러스 퓨어 화이트 노트북 NT350XCR-AD3AW (i3-10110U), 포함, 256GB, 8GB, WIN10 Home, RAM 8GB + SSD 256GB 828,000\n",
      " <광고 상품 제외합니다>\n",
      "삼성전자 플러스2 퓨어화이트 노트북 NT550XDA-K78AW (i7-1165G7 39.6cm WIN10 Home), 포함, 256GB, 16GB 1,399,000\n",
      "Apple 2020년 맥북 프로 13 (M1 칩셋 8코어 CPU 8코어 GPU), 8GB, SSD 256GB, 스페이스 그레이 1,571,700\n",
      "LG전자 그램17 스노우 화이트 노트북 17ZD90P-GX70K (i7-1165G7 43.1cm), 미포함, 256GB, 8GB 1,749,000\n",
      "HP 파빌리온 x360 14 Forest Teal 노트북 dw1049TU (i5-1135G7 35.56cm WIN10 Home), 윈도우 포함, 256GB, 8GB 929,000\n",
      "LG전자 그램17 스노우 화이트 노트북 17ZD90P-GX50K (i5-1135G7 43.1cm), 미포함, 256GB, 8GB 1,639,000\n",
      "LG전자 울트라PC 노트북 화이트 15U50P-GR56K (i5-1135G7 39.6cm WIN10 Home), 윈도우 포함, 256GB, 8GB 989,000\n",
      "대용량 SSD 512G탑재! 삼성전자 노트북9 NT901X5H (코어i5 RAM 8G SSD 512G 무게1.29kg 15.6인치 윈도우10 실버), SSD 512GB 698,000\n",
      "Apple 2020년 맥북 에어 13, M1 8-Core, 16GB, SSD 256GB, 스페이스 그레이 1,550,000\n",
      "Apple 2020년 맥북 프로 13 (M1 칩셋 8코어 CPU 8코어 GPU), 16GB, SSD 512GB, 스페이스 그레이 2,185,400\n",
      "삼성전자 갤럭시북 이온2 미스틱화이트 노트북 NT950XDA-X71OW (i7-1165G7 39.6cm MX450 WIN10 Home), 포함, 512GB, 32GB 2,299,000\n",
      "레노버 아이디어패드 Ice Blue 노트북 S150-11 81VT (Intel Celeron N4020 29.5cm WIN10 Home S), 윈도우 포함, 64GB, 4GB 279,000\n",
      "Apple 2020년 맥북 에어 13, M1 8-Core, 8GB, SSD 512GB, 스페이스 그레이 1,508,930\n",
      "삼성전자 플러스 퓨어 화이트 노트북 NT350XCR-AD3AW (i3-10110U), 미포함, 256GB, 16GB, WIN미설치,  RAM 8GB + RAM 8GB + SSD 256GB 717,000\n",
      "LG전자 그램 스노우화이트 노트북 14ZD90P-GX30K (i3-1115G4 35.5cm), 256GB, 미포함, 8GB 1,219,000\n",
      "LG전자 울트라 화이트 노트북 13U70P-GR56K (라이젠5-4500U 33.7cm WIN10 Home), 256GB, 윈도우 포함, 8GB 999,000\n",
      "삼성전자 플러스 퓨어 화이트 노트북 NT350XCR-AD3AW (i3-10110U), 포함, 256GB, 16GB, WIN10 Home, RAM 8GB + RAM 8GB + SSD 256GB 897,000\n",
      "LG전자 울트라PC 화이트 노트북 15U50P-KR56K (i5-1135G7 39.6cm MX450 WIN10 Home ), 256GB, 윈도우 포함, 8GB 1,069,000\n",
      "Apple 2019년 맥북 프로 터치바 16, 9세대 i9, 16GB, SSD 1TB, 스페이스 그레이, AMD Radeon Pro 5500M 4GB 3,238,370\n",
      "삼성전자 갤럭시북 S Mercury Gray 노트북 NT767XCM-K58S(i5-L16G7 33.7cm Win10 Home Wi-Fi전용), 윈도우 포함, 256GB, 8GB 1,079,000\n",
      "Apple 2020년 맥북 에어 13, M1 8-Core, 8GB, SSD 512GB, 실버 1,528,200\n",
      "삼성전자 갤럭시북 플렉스 2 미스틱 블랙 노트북 NT950QDA-X71AB (i7-1165G7 39.6cm MX450 WIN10 Home), 포함, 1TB, 16GB 2,548,000\n",
      "LG전자 그램14 스노우화이트 노트북 14Z90P-GA56K (i5-1135G7 35.5cm WIN10 Home), 포함, 512GB, 8GB 1,699,000\n",
      "삼성전자 플러스2 퓨어화이트 노트북 NT550XDZ-AD5AW (i5-1135G7), WIN10 Home, RAM 8GB + RAM 8GB + SSD 256GB 1,199,000\n",
      "한성컴퓨터 올데이롱 노트북 TFX5470H (라이젠7-4800H 39.62cm), 윈도우 미포함, 500GB, 16GB 959,000\n",
      "LG전자 2020 그램15 노트북 15ZD90N-VX50K (i5-1035G7 39.6cm), 256GB, 8GB, Free DOS 1,429,000\n",
      "Apple 2020년 맥북 에어 13, M1 8-Core, 8GB, SSD 256GB, 골드 1,246,200\n",
      "Apple 2020년 맥북 프로 13 (M1 칩셋 8코어 CPU 8코어 GPU), 8GB, SSD 512GB, 스페이스 그레이 1,822,800\n"
     ]
    }
   ],
   "source": [
    "for item in items:\n",
    "    ad_badge = item.find(\"span\", attrs={\"class\": \"ad-badge-text\"})\n",
    "    if ad_badge:\n",
    "        print(\" <광고 상품 제외합니다>\")\n",
    "        continue\n",
    "    name = item.find(\"div\", attrs={\"class\":\"name\"}).get_text() #제품명\n",
    "    price= item.find(\"strong\", attrs={\"class\": \"price-value\"}).get_text()\n",
    "    print(name, price)"
   ]
  },
  {
   "cell_type": "code",
   "execution_count": 15,
   "metadata": {},
   "outputs": [
    {
     "name": "stdout",
     "output_type": "stream",
     "text": [
      " <광고 상품 제외합니다>\n",
      "마이크로소프트 서피스 랩탑 고 플래티넘 노트북 THJ-00021 (i5-1035G1 32cm WIN10 Home S), 윈도우 포함, 256GB, 8GB 1,137,970\n",
      "삼성전자 노트북9 METAL NT901X5L 가볍고 슬림한 1.29kg 코어i5 SSD256GB 윈10 탑재, 포함, SSD 256GB, 8GB 676,000\n",
      "레노버 아이디어패드 Platinum Grey 노트북 S150-11 81VT (Intel Celeron N4020 29.5cm WIN10 Home S), 윈도우 포함, 64GB, 4GB 286,420\n",
      " <광고 상품 제외합니다>\n",
      " <광고 상품 제외합니다>\n",
      "대용량 SSD 512G탑재! 삼성전자 노트북9 NT901X5H (코어i5 RAM 8G SSD 512G 무게1.29kg 15.6인치 윈도우10 실버), SSD 512GB 698,000\n",
      "삼성전자 플러스2 퓨어화이트 노트북 NT550XDA-K14AW (샐러론 6305 39.6cm WIN10 Pro), 윈도우 포함, NVMe 128GB, 8GB 668,000\n",
      " <광고 상품 제외합니다>\n",
      "LG전자 울트라 화이트 노트북 14U390-ME2TK (펜티엄실버-N5000 35.5cm WIN10 S), 포함, 576GB, 8GB 627,000\n",
      "삼성전자 플러스 퓨어 화이트 노트북 NT350XCR-AD3AW (i3-10110U), 포함, 256GB, 8GB, WIN10 Home, RAM 8GB + SSD 256GB 828,000\n",
      "삼성전자 플러스2 퓨어 화이트 노트북 NT550XDZ-AD2AW (펜티엄골드-7505), WIN미포함,  RAM 8GB + SDD 256GB 618,000\n",
      "레노버 ideapad 그레이 노트북 Slim1-14IGL05 (셀러론 N4020 35.6cm WIN10 S), 윈도우 포함, 64GB, 4GB 292,700\n",
      "삼성전자 퓨어 화이트 노트북 NT350XCR-AD5WA-X16G (i5-10210U 39.6cm), 윈도우 미포함, 256GB, 16GB 868,000\n",
      "삼성전자 플러스2 퓨어화이트 노트북 NT550XDA-K78AW (i7-1165G7 39.6cm WIN10 Home), 포함, 256GB, 16GB 1,399,000\n",
      "아이뮤즈 Stormbook14 APOLLO 로즈골드 노트북 (아폴로 레이크 N3350 35.8cm WIN10 Home), 윈도우 포함, 64GB, 4GB 311,880\n",
      "HP 노트북 스노우 화이트 14s-dq1092TU (i3-1005G1 35.6cm WIN10), 윈도우 포함, 256GB, 4GB 579,000\n",
      "레노버 Flex 5 노트북 14ARE R3 W10S (라이젠3-4300U 35.5cm Radeon Graphics WIN10 S), 윈도우 포함, 128GB, 8GB 729,000\n",
      "델 Inspiron 15 5505 플래티넘 실버 노트북 DN5505-WH01KR (라이젠5-4500U 39.6cm WIN10 Home), 윈도우 포함, 256GB, 8GB 749,000\n",
      "LG전자 울트라PC 노트북 15U50N (펜티엄 39.6cm), 윈도우 포함, 256GB, 4GB 659,000\n",
      "에이수스 VivoBook 15 노트북 투명실버 X513EA-CP001 (i5-1135G7 39.624cm), NVMe 512GB, 윈도우 미포함, 8GB 749,000\n",
      "HP 파빌리온 x360 14 Forest Teal 노트북 dw1049TU (i5-1135G7 35.56cm WIN10 Home), 윈도우 포함, 256GB, 8GB 929,000\n",
      "삼성전자 플러스2 미스틱 그레이 노트북 NT550XDZ-GD7AG (i7-1165G7 39.6cm MX450), 미포함, 256GB, 16GB 1,367,000\n",
      "LG전자 울트라PC 노트북 화이트 15U50P-GR56K (i5-1135G7 39.6cm WIN10 Home), 윈도우 포함, 256GB, 8GB 989,000\n",
      "LG전자 울트라PC 노트북 15UD50N-GX50K 화이트 (i5-10210U 39.6cm) + 노트북 가방 + 키스킨 + 액정보호필름 + 마우스패드 + HDMI + 무선마우스, NVMe 256GB, 8GB, Free DOS 871,560\n",
      "레노버 아이디어패드 Ice Blue 노트북 S150-11 81VT (Intel Celeron N4020 29.5cm WIN10 Home S), 윈도우 포함, 64GB, 4GB 279,000\n",
      "삼성전자 플러스 퓨어 화이트 노트북 NT350XCR-AD3AW (i3-10110U), 포함, 256GB, 16GB, WIN10 Home, RAM 8GB + RAM 8GB + SSD 256GB 897,000\n",
      "레노버 노트북 V14-ARE 82DQ003AKR (R5-4500U 35.56cm), 윈도우 미포함, 256GB, 4GB 459,000\n",
      "에이수스 X415JA 투명실버 노트북 CP121 (i5-1035G1 35.5cm), 256GB, 윈도우 미포함 등, 8GB 599,000\n",
      "삼성전자 플러스2 퓨어 화이트 노트북 NT550XDZ-AD2AW (펜티엄골드-7505), Win10Home, RAM 8GB + SSD 256GB 817,000\n",
      "삼성전자 플러스 플래티넘 티탄 노트북 NT350XCR-AD3AS (i3-10110U), 윈도우 미포함, 256GB, 16GB 699,000\n",
      "삼성전자 갤럭시북 S 머큐리 그레이 노트북 NT767XCM-K38S (i3-L13G4 33.7cm WIN10 Home), 윈도우 포함, 256GB, 8GB 969,000\n",
      "삼성전자 플러스 퓨어 화이트 노트북 NT350XCR-AD3AW (i3-10110U), 미포함, 256GB, 16GB, WIN미설치,  RAM 8GB + RAM 8GB + SSD 256GB 717,000\n",
      "이태원클라쓰북 그램스타일 노트북 풀패키지미개봉 NB141LTN41 8세대 14 IPS FHD 윈10탑재, 화이트, NB133LTN40 [32G+SD64G] 339,000\n",
      "에이수스 드리미 화이트 노트북 E210MA-GJ109TS (셀러론 N4020 30cm WIN10 Home), 64GB, 윈도우 포함, 4GB 288,800\n",
      "LG 그램14 스노우화이트 노트북 14ZD995-LX20K (펜티엄-6405U 35.5cm), 윈도우 미포함, 128GB, 4GB 789,000\n",
      "LG전자 2020 그램15 터치 노트북 15ZD90N-HX56K (i5-1035G7 아이스레이크 39.6cm), 256GB, 8GB, Free DOS 1,482,170\n",
      "아이뮤즈 Stormbook14 APOLLO 로즈골드 노트북 (아폴로 레이크 N3350 35.8cm WIN10 Home), 윈도우 포함, 64GB, 4GB 311,880\n",
      "MSI GF75 Thin 10UEK 노트북 043 (i7-10750H 43.9cm RTX 3060 6GB), 윈도우 미포함, 512GB, 16GB 1,564,980\n",
      "델 Inspiron 15 5505 플래티넘 실버 노트북 DN5505-WH01KR (라이젠5-4500U 39.6cm WIN10 Home), 윈도우 포함, 256GB, 8GB 749,000\n",
      "HP 노트북 스노우 화이트 14s-dq1092TU (i3-1005G1 35.6cm WIN10), 윈도우 포함, 256GB, 4GB 579,000\n",
      "삼성전자 플러스 플래티넘 티탄 노트북 NT350XCR-AD3AS (i3-10110U), 윈도우 미포함, 256GB, 16GB 699,000\n",
      "레노버 Legion 5i 노트북 15IMH Ultra(i7-10750H 39.6cm RTX 2060), 윈도우 미포함, 256GB, 8GB 1,357,020\n",
      "삼성전자 갤럭시북 이온2 미스틱 화이트 노트북 NT930XDZ-A38AW (i3-1115G4 33.7cm WIN10 Home), 포함, 256GB, 8GB 1,297,000\n",
      "삼성전자 플러스 플래티넘 티탄 노트북 NT350XCR-AD3AS (i3-10110U), 윈도우 포함, 256GB, 16GB 897,000\n",
      "삼성전자 플러스2 퓨어 화이트 노트북 NT550XDZ-AD2AW (펜티엄골드-7505), WIN미포함,  RAM 8GB + SDD 256GB 618,000\n",
      "LG전자 그램17 스노우 화이트 노트북 17Z90P-GA56K (i5-1135G7 43.1cm WIN10 Home), 포함, NVMe 512GB, 8GB 2,019,000\n",
      "HP 파빌리온 게이밍 쉐도우 블랙 노트북 16-a0050TX (i7-10750H 40.9cm RTX 2060), 윈도우 미포함, 512GB, 16GB 1,369,000\n",
      "레노버 Legion 5Pi 노트북 15IMH I7 HYPER 1660TI 82AW003DKR (i7-10750H 39.6cm GTX 1660Ti), 윈도우 미포함, 256GB, 8GB 1,398,990\n",
      "HP OMEN 15 노트북 en0040AX (라이젠7-4800H 39.6cm RTX 2060 WIN10 Home), 512GB, 윈도우 포함, 16GB 1,555,000\n",
      "삼성전자 갤럭시북 S NT767XCM-K58 Earth Gold (Wi-Fi전용 i5-L16G7 33.7cm Win10 Home), 포함, eUFS 256GB, 8GB 1,099,000\n",
      "삼성전자 갤럭시북 플렉스 2 미스틱 브론즈 노트북 NT950QDA-X71AZ 1TB (i7-1165G7 39.6cm MX450 WIN10 Home), 포함, 16GB 2,548,000\n",
      "삼성전자 플러스 플래티넘 티탄 노트북 NT350XCR-AD3AS (i3-10110U), 윈도우 포함, 256GB, 8GB 828,000\n",
      "삼성전자 플러스 플래티넘 티탄 노트북 NT350XCR-AD5AS (i5-10210U 39.6cm), 포함, 256GB, 16GB 1,079,000\n",
      "Apple 2019년 맥북 프로 터치바 16, 9세대 i7, 16GB, SSD 512GB, 스페이스 그레이, 라데온 Pro 5300M 3,190,000\n",
      "MSI 모던 14 노트북 B4MW (라이젠5 4500U 35.56cm), 미포함, 512GB, 8GB 699,000\n",
      "HP 노트북 14s-dq1091TU (i3-1005G1 35.6cm), 미포함, SSD 256GB, 4GB 459,000\n",
      "LG전자 그램14 옵시디안블랙 노트북 14ZD90P-GX5BK (i5-1135G7 35.5cm), 미포함, 256GB, 8GB 1,369,000\n",
      "Apple 2020년 맥북 프로 13 (M1 칩셋 8코어 CPU 8코어 GPU), 16GB, SSD 256GB, 스페이스 그레이 1,920,800\n",
      "LG전자 울트라 PC 노트북 화이트 15UD50P-KX50K (i5-1135G7 39.6cm MX450), 256GB, 윈도우 미포함, 8GB 1,019,000\n",
      "삼성전자 플러스2 퓨어 화이트 노트북 NT550XDZ-AD2AW (펜티엄골드-7505), Win10Home, RAM 8GB + SSD 256GB 817,000\n",
      "레노버 아이디어패드 플래티넘그레이 노트북 S150-11 PRO (셀러론 N4020 29.5cm), 윈도우 미포함, 128GB, 4GB 289,000\n",
      "레노버 Flex 5 노트북 14ARE R3 W10S (라이젠3-4300U 35.5cm Radeon Graphics WIN10 S), 윈도우 포함, 128GB, 8GB 729,000\n",
      "에이서 스위프트3 실버 노트북 SF314-42 R5씬스틸러 (라이젠5-4500U 35.56cm), 윈도우 미포함, 256GB, 16GB 799,000\n",
      "LG전자 그램16 스노우화이트 노트북 16ZD90P-GX70K (i7-1165G7 40.6cm), 미포함, NVMe 256GB, 8GB 1,849,000\n",
      "LG전자 10세대 코어i7 윈10탑재 17형 LG 그램 2020년형 17Z90N 그레이 정품키스킨 증정, 16GB, SSD 512GB, 포함 1,679,000\n",
      "삼성전자 퓨어 화이트 노트북 NT350XCR-AD5WA-X (i5-10210U 39.6cm), 윈도우 포함, 256GB, 16GB 1,067,000\n",
      "한성컴퓨터 언더케이지 노트북 TFX4470H (R7-4800H 35.56cm AMD Radeon graphic), 윈도우 미포함, 500GB, 16GB 899,000\n",
      "한성컴퓨터 노트북 올데이롱 블랙 TFX255S (i5-10210U 39.62cm WIN미포함), 미포함, SSD 500GB, 8GB 799,000\n",
      "삼성전자 Plus 2 퓨어화이트 노트북 NT550XDZ-AD1AW (셀러론 6305 39.6cm), 포함, 256GB, 8GB 747,000\n",
      "마이크로소프트 서피스 프로7 플래티넘 노트북 VDV-00010 (i5-1035G4 31.2cm WIN10 Home), 윈도우 포함, 128GB, 8GB 993,410\n",
      "LG 그램14 스노우화이트 노트북 14ZD995-LX20K (펜티엄-6405U 35.5cm), 윈도우 미포함, 128GB, 4GB 789,000\n",
      "Apple 2020년 맥북 프로 13 (M1 칩셋 8코어 CPU 8코어 GPU), 16GB, SSD 1TB, 스페이스 그레이 2,450,000\n",
      "삼성전자 플러스 플래티넘 티탄 노트북 NT350XCR-AD5AS (i5-10210U 39.6cm ), 윈도우 미포함, 256GB, 16GB 859,000\n",
      "Apple 2020년 맥북 프로 터치바 13, 10세대 i5, 16GB, SSD 512GB, 스페이스 그레이 2,215,000\n",
      "레노버 Legion 5i 노트북 15IMH Ultra PRO (i7-10750H 39.6cm GTX 1660Ti), 윈도우 미포함, 512GB, 16GB 1,369,080\n",
      "LG전자 2020 그램15 노트북 15Z90N-VR56K (i5-1035G7 39.6cm), NVMe 512GB, 8GB, WIN10 Home 1,563,130\n",
      "Apple 2020년 맥북 프로 13 (M1 칩셋 8코어 CPU 8코어 GPU), 16GB, SSD 512GB, 실버 2,230,000\n",
      "삼성전자 갤럭시북 이온2 미스틱화이트 노트북 NT950XDZ-A38AW (i3-1115G4 39.6cm), 미포함, 256GB, 16GB 1,349,000\n",
      "레노버 ideapad 그레이 노트북 Slim1-14IGL05 (셀러론 N4020 35.6cm WIN10 S), 윈도우 포함, 64GB, 4GB 292,700\n",
      "삼성전자 갤럭시북 S 머큐리 그레이 노트북 NT767XCM-K38S (i3-L13G4 33.7cm WIN10 Home), 윈도우 포함, 256GB, 8GB 969,000\n",
      "HP 파빌리온 15 ShadowBlack 게이밍 노트북 ec1058AX (라이젠7-4800H 39.6cm GTX1650 Ti), 윈도우 미포함, 512GB, 8GB 1,075,620\n",
      "LG 그램 14Z960 i5-6200 8G SSD256G Win10 가벼운 슬림한 노트북 980g 699,000\n",
      "삼성전자 갤럭시북 S 얼씨 골드 노트북 Wi-F NT767XCM-K38 (i3-L13G4 33.7cm WIN10 Home), 윈도우 포함, 256GB, 8GB 969,000\n",
      "레노버 YOGA Slim7 Carbon 문화이트 노트북 13ITL5 82EV0034KR (i5-1135G7 33.7cm), 미포함, 512GB, 16GB 1,249,000\n",
      "LG전자 울트라 PC 화이트 노트북 13U70P-GA76K (라이젠7-4700U 33.78cm WIN10 Home), 256GB, 윈도우 포함, 16GB 1,249,000\n",
      "LG전자 울트라 화이트 노트북 15UD50P-GX30K (i3-1115G4 39.6cm), 128GB, 윈도우 미포함, 8GB 679,000\n",
      "에이서 아스파이어5 블랙 노트북 A515-56-53G7 (i5-1135G7 39.62cm Free DOS), 윈도우 미포함, 256GB, 8GB 659,000\n",
      "LG전자 그램17 옵시디안블랙 노트북 17ZD90P-GX7BK (i7-1165G7 43.1cm), 미포함, NVMe 256GB, 8GB 1,799,000\n",
      "삼성전자 Pen Crush White 노트북 NT930QBE-K37WD (i3-8145U 33.7cm Win10 Home), 포함, NVMe 256GB, 8GB 1,129,000\n",
      "삼성전자 갤럭시북 이온 아우라 실버 NT950XCR-G58A (i5-10210U 39.6cm MX250) + UFS 카드 256GB, 포함, NVMe 256GB, 16GB 1,778,000\n",
      "삼성전자 갤럭시북 플렉스2 미스틱 브론즈 노트북 NT930QDA-K71AZ (i7-1160G7 33.7cm WIN10 Home), 포함, NVMe 512GB, 16GB 2,049,000\n",
      "LG전자 그램16 옵시디안블랙 노트북 16ZD90P-GX7BK (i7-1165G7 40.6cm), 미포함, 256GB, 8GB 1,749,000\n",
      "기가바이트 AORUS 7 게이밍노트북 SB i7 (i7-10750H 43.9cm GTX1660Ti), 윈도우 미포함, 1536GB, 16GB 1,499,000\n",
      "에이수스 VivoBook 15 노트북 투명실버 X513EA-CP001 (i5-1135G7 39.624cm), NVMe 512GB, 윈도우 미포함, 8GB 749,000\n",
      "레노버 노트북 V14-ARE 82DQ003AKR (R5-4500U 35.56cm), 윈도우 미포함, 256GB, 4GB 459,000\n",
      "레노버 아이디어패드 듀엣3 Graphite Grey 노트북 10IGL05-82AT0029KR (셀러론N4020 26.16cm WIN10 Home S), 윈도우 포함, 64GB, 4GB 425,820\n",
      "에이수스 ZenBook Flip 파인그레이 노트북 UX363EA-HP213T (i7-1165G7 33.78cm WIN10 Home), 윈도우 포함, 512GB, 16GB 1,549,000\n",
      "Apple 2020년 맥북 프로 13 (M1 칩셋 8코어 CPU 8코어 GPU), 8GB, SSD 512GB, 실버 1,822,800\n",
      "한성컴퓨터 올데이롱 노트북 TFX5470HW (라이젠7-4800H 39.62cm WIN10 Home), 윈도우 포함, 500GB, 16GB 1,089,000\n",
      "삼성전자 갤럭시북 플렉스 알파 노트북 NT750QCR-A38A (i3-10110U 39.6cm WIN10 Home), 윈도우 포함, 256GB, 16GB 1,539,000\n",
      "Apple 2020년 맥북 에어 13, M1 8-Core, 8GB, SSD 512GB, 골드 1,528,200\n",
      "HP PAVILION GAMING 노트북 16-a0047tx (i5-10300H 40.9cm GTX 1650 Ti), 윈도우 미포함, 512GB, 8GB 1,126,260\n",
      "레노버 Thinkpad T14s Gen 1 Black 노트북 20UHS01C00 (라이젠7-4750U 35.56cm WIN10 Pro LTE), 윈도우 포함, 256GB, 16GB 1,519,390\n",
      "한성컴퓨터 언더케이지 노트북 TFX4450H (라이젠5-4600H 35.56cm), 윈도우 미포함, 250GB, 8GB 739,000\n",
      "Apple 2020년 맥북 에어 13, M1 8-Core, 16GB, SSD 256GB, 골드 1,513,200\n",
      "레노버 Legion 5 노트북 15ARH ZEN PLUS W10 (라이젠7-4800H 39.6cm GTX 1660Ti WIN10 Pro), 윈도우 포함, 256GB, 8GB 1,409,000\n",
      "MSI 게이밍 노트북 GF65 Thin 9SEXR (i7-9750H 39.6cm RTX 2060), 윈도우 미포함, 512GB, 8GB 1,198,990\n"
     ]
    },
    {
     "name": "stdout",
     "output_type": "stream",
     "text": [
      "MSI 게이밍노트북 GF75 Thin 9SCXR 604 (i7-9750H 43.94cm GTX 1650), 윈도우 미포함, 512GB, 8GB 1,137,000\n",
      "MSI Creator 17M 노트북 A10SD (i7-10750H 43.942cm GTX1660Ti), 윈도우 미포함, 512GB, 16GB 1,515,280\n",
      "중고노트북 10만원대 삼성 LG HP 등, [A] 레노버EDGE 109,000\n",
      "HP 엘리트북 845 G7 노트북 2F1M2PA (라이젠5-프로4650U 35.56cm), 윈도우 미포함, 256GB, 8GB 947,000\n",
      "삼성전자 시리즈3 NT301E5C i5 4G SSD256 Win10_유, 4GB, WIN10 290,000\n",
      "삼성전자 갤럭시북 S Mercury Gray 노트북 NT767XCL-KLTES(i5-L16G7 33.7cm Win10 Home LTE겸용), 윈도우 포함, 512GB, 8GB 1,219,000\n",
      "LG전자 그램 스노우화이트 노트북 17ZD90P-GX30K (i3-1115G4 43.1cm), 256GB, 미포함, 8GB 1,449,000\n",
      "레노버 아이디어패드 노트북 아이스블루 S150-11 PRO (셀러론 N4020 29.5cm), 미포함, NVMe 128GB, 4GB 289,000\n",
      "에이수스 젠북14 스크린패드 로얄 블루 노트북 UX434FLC-A6210T (10세대 코어i5-10210U 35.56cm WIN10), 윈도우 포함, 512GB, 8GB 1,123,750\n",
      "레노버 YOGA Slim7 Carbon 문화이트 노트북 13ITL5 82EV004LKR (i5-1135G7 33.7cm WIN10 Home), 포함, 512GB, 16GB 1,359,000\n",
      "LG전자 울트라 PC 화이트 노트북 13U70P-GR36K (라이젠3-4300U 33.7cm WIN10 Home), 포함, 128GB, 8GB 840,000\n",
      "삼성전자 갤럭시북 이온 아우라실버 NT950XCR-A58A (i5-10210U 39.6cm), 미포함, NVMe 256GB, 16GB 1,449,000\n",
      "레노버 YOGA Slim7 Carbon 문화이트 노트북 13ITL5 82EV0049KR (i7-1165G7 33.7cm WIN10 Home), 포함, 1TB, 16GB 1,609,000\n",
      "마이크로소프트 서피스 랩탑 고 플래티넘 노트북 THH-00021 (i5-1035G1 31.62cm WIN10 Home), 윈도우 포함, 128GB, 8GB 830,710\n",
      "레노버 Gaming 3i 노트북 15IMH I7 LEGEND DOS (i7-10750H 39.6cm GTX 1650), 윈도우 미포함, 256GB, 8GB 1,026,580\n",
      "삼성전자 갤럭시북 이온 아우라 실버 NT950XCR-G58A (i5-10210U 39.6cm MX250) + UFS 카드 256GB, 미포함, NVMe 256GB, 16GB 1,629,000\n",
      "삼성전자 플러스2 미스틱그레이 노트북 NT550XDZ-GD5AG (i5-1135G7), WIN미포함, RAM 8GB + RAM 8GB + SSD 256GB 1,167,000\n",
      "Apple 2020년 맥북 프로 13 (M1 칩셋 8코어 CPU 8코어 GPU), 16GB, SSD 1TB, 실버 2,450,000\n",
      "삼성전자 노트북 NT351U2B 블랙 가볍고 슬림한 1.4kg 정품 윈도우10 탑재, 4GB, SSD 120GB, 포함 279,000\n",
      "삼성전자 갤럭시북 플렉스2 미스틱 브론즈 노트북 NT930QDZ-A58AZ (i5-1130G7 33.7cm WIN10 Home), 포함, 256GB, 8GB 1,787,000\n",
      "기가바이트 노트북 G5 KC (i7 10870H 39.6cm RTX 3060), 512GB, 윈도우 미포함, 16GB 1,549,000\n",
      "레노버 V14 노트북 IGL-82C20006KR (셀러론-N4020 35.56cm), 윈도우 미포함, 128GB, 4GB 299,000\n",
      "HP 파빌리온 x360 14 Forest Teal 노트북 dw1053TU (i7-1165G7 35.56cm WIN10 Home), 윈도우 포함, 512GB, 16GB 1,173,760\n",
      "삼성전자 갤럭시북 이온2 미스틱 화이트 노트북 NT950XDZ-G58AW (i5-1135G7 39.6cm MX450), 미포함, NVMe 256GB, 16GB 1,808,000\n",
      "에이수스 크레이터X 노트북 X571LH-BN019 (i5-10300H 39.6cm GTX 1650), 윈도우 미포함, 512GB, 8GB 999,000\n",
      "아이뮤즈 스톰북 14 아폴로 노트북 (셀러론-N3350 35.8cm eMMC32GB), 4GB, WIN10 Home, 그레이 311,880\n",
      "LG전자 울트라PC 화이트 노트북 13UD70P-GX70K (라이젠7-4700U 33.7cm) + 무선 마우스 + 마우스 패드 + HDMI, 미포함, 256GB, 16GB 1,135,320\n",
      "LG전자 울트라PC 노트북 15U50N (펜티엄 39.6cm), 윈도우 포함, 256GB, 4GB 659,000\n",
      "HP 파빌리온 게이밍 노트북 17-cd1019TX (i5-10300H 43.94cm GTX1650Ti WIN10 Home) 1,271,540\n",
      "삼성전자 갤럭시북 플렉스2 미스틱 블랙 노트북 NT930QDZ-A58AB (i5-1130G7 33.7cm WIN10 Home), 포함, NVMe 256GB, 8GB 1,787,000\n",
      "삼성전자 갤럭시북 S Earth Gold 노트북 NT767XCL-KLTE(i5-L16G7 33.7cm Win10 Home LTE겸용), 윈도우 포함, 512GB, 8GB 1,219,000\n",
      "에이수스 노트북 실버 S513EA-CP129 (i5-1135G7 8G 256G Iris FREE DOS), SSD 256GB, 윈도우 미포함, 8GB 749,000\n",
      "MSI 모던 14 카본그레이 노트북 B10MW (i5-10210U 35.56cm), 미포함, 256GB, 8GB 649,000\n",
      "삼성전자 갤럭시북 이온2 미스틱화이트 노트북 NT950XDZ-A38AW (i3-1115G4 39.6cm), 윈도우 미포함, 512GB, 16GB 1,399,000\n",
      "삼성전자 갤럭시북 플렉스 알파 노트북 NT750QCR-A58A-X16G (i5-10210U 39.6cm), 윈도우 미포함, 256GB, 16GB 1,567,000\n",
      "HP x360 파빌리온 노트북 14-dw1050TU (i5-1153G7 35.56cm WIN10 Home), 윈도우 포함, 512GB, 8GB 977,930\n",
      "아이뮤즈 스톰북 15프로 노트북 (m3-6y30 39.6cm HD515), StormBook15 PRO, 로즈골드 436,390\n",
      "삼성전자 갤럭시북 플렉스 알파 머큐리 그레이 노트북 NT730QCR-A516A (i5-10210U 33.7cm), 윈도우 포함, 256GB, 16GB 1,528,000\n",
      "삼성전자 갤럭시북 플렉스2 미스틱 블랙 노트북 NT930QDA-K71AB (i7-1160G7 33.7cm WIN10 Home), 포함, 512GB, 16GB 2,049,000\n",
      "에이수스 ROG 스트릭스 블랙 노트북G512LI-HN065 (i7-10750H 39.62cm GTX 1650Ti), 윈도우 미포함, 512GB, 8GB 1,110,000\n",
      "LG전자 그램16 스노우 화이트 노트북 16Z90P-GA56K (i5-1135G7 40.6cm WIN10 Home), 포함, 512GB, 8GB 2,680,000\n",
      "삼성전자 노트북 플러스 10세대 코어i5 NT551X 시리즈 플래티넘 티탄 램16GB SSD256GB 윈10 탑재, 16GB, SSD 256GB, 포함 978,000\n",
      "LG 울트라PC 15U560 6세대 i5 지포스940M 15.6인치 윈도우10, SSD 256GB + HDD 500GB, 8GB, 포함 599,000\n",
      "DELL노트북 래티튜드E5550 I5 5세대 5200U 윈10정품 웹캠탑재, 16GB, 신품SSD512GB 479,000\n",
      "삼성전자 플러스2 미스틱그레이 노트북 NT550XDZ-GD5AG (i5-1135G7), WIN10 Home, RAM 16GB + SSD 256GB 1,366,000\n",
      "HP 파빌리온 게이밍 쉐도우 블랙 노트북 15-dk1077TX (i7-10750H 39.6cm GTX 1660 Ti), 윈도우 미포함, 256GB, 8GB 1,169,000\n",
      "레노버 Iron Gray 노트북 V14-82DQ0039KR (라이젠7-4700U 35.5cm), 윈도우 미포함, 256GB, 8GB 639,000\n",
      "에이수스 노트북 피콕블루 E410MA-EK141TS (셀러론 N4020 35.56cm WIN10 Home), NVMe 128GB, 윈도우 포함, 4GB 361,150\n",
      "아이뮤즈 스톰북14 APOLLO 실버그레이 노트북 (듀얼코어 N3350 35.8cm WIN10 Home) + MS오피스 + 충전기 MX30PD + 키스킨, 윈도우 포함, 64GB, 4GB 361,900\n",
      "Apple 2020년 맥북 프로 터치바 13, 10세대 i5, 16GB, SSD 1TB, 스페이스 그레이 2,288,970\n",
      "LG전자 2020 그램15 노트북 15Z90N-HA76K (i7-1065G7 39.6cm), NVMe 512GB, 8GB + 8GB, WIN10 Home 1,849,000\n",
      "아이뮤즈 스톰북 15프로 노트북 (m3-6y30 39.6cm WIN10), StormBook15 PRO, 로즈골드 592,360\n",
      "MSI EVOLVE 게이밍 노트북 GF75 Thin 10SCSR (i7-10750H 43.94cm GTX 1650 Ti), 미포함, 512GB, 8GB 1,173,490\n",
      "에이수스 젠북14 스크린패드 아이시클 실버 노트북 UX434FLC-A6212T (10세대 코어i5-10210U 35.56cm WIN10), 윈도우 포함, 512GB, 8GB 1,123,750\n",
      "Apple 2020년 맥북 프로 13 (M1 칩셋 8코어 CPU 8코어 GPU), 16GB, SSD 256GB, 실버 1,920,800\n",
      "에이수스 TUF 포트리스 그레이 노트북 FX506LU-HN767 (i7-10870H 39.62cm GTX1660Ti), 윈도우 미포함, 512GB, 8GB 1,173,490\n",
      "HP 엘리트북 845 G7 노트북 2F1L9PA (라이젠7-프로4750U 35.56cm), 윈도우 미포함, 256GB, 8GB 1,079,000\n",
      "MSI 브라보 17 게이밍 노트북 A4DDR (라이젠7 4800H 43.94cm RX 5500M), 미포함, 512GB, 8GB 1,148,990\n",
      "레노버 ThinkPad L560 i5-6300U 8G SSD256 Win10 429,000\n",
      "MSI 게이밍 노트북 GS66 Stealth 10SD (i7-10750H 39.624cm GTX1660Ti), 미포함, NVMe 512GB, 16GB 1,579,000\n",
      "레노버 V14 노트북 82C4A003KR (i5-1035G1 35.56cm), 윈도우 미포함, 128GB, 4GB 529,000\n",
      "LG전자 그램 14 화이트 노트북 14ZD90P-GX50K (i5-1135G7 35.5cm), 미포함, 512GB, 8GB 1,458,000\n",
      "삼성전자 갤럭시북 플렉스2 미스틱 블랙 노트북 NT930QDZ-A51AB (i5-1130G7 33.7cm WIN10 Home), 포함, NVMe 256GB, 16GB 1,858,000\n",
      "주연테크 캐리북T 메탈슬림 노트북 J3GP Pro_2S + NVMe 250GB (펜티엄실버 N5000 33.7cm WIN10 Pro 터치), 포함, eMMC 64GB + NVMe 250GB, 4GB 448,000\n",
      "MSI GP75 레오파드 10SEK 노트북 (10세대 i7-10750H 43.9cm WIN미포함 RTX 2060 6GB), 미포함, NVMe 512GB, 8GB 1,569,000\n",
      "HP OMEN 노트북 15-ek0066TX (i7-10750H 39.6cm RTX 2060), 윈도우 미포함, 512GB, 16GB 1,487,800\n",
      "에이서 아스파이어5 실버 A515-56 57U2 (i5-1135G7 WIN10 Home), 윈도우 포함, 256GB, 8GB 769,000\n",
      "삼성전자 갤럭시북 이온2 미스틱 화이트 노트북 NT950XDZ-A58AW (i5-1135G7 39.6cm), 미포함, 256GB, 16GB 1,598,000\n",
      "삼성전자 갤럭시북 플렉스 알파 머큐리 그레이 노트북 NT730QCR-A38A (i3-10110U 33.7cm), 윈도우 미포함, 256GB, 8GB 1,199,000\n",
      "삼성전자 갤럭시북 플렉스 알파 노트북 NT750QCR-A38A (i3-10110U 39.6cm WIN10 Home), 윈도우 포함, 256GB, 8GB 1,499,000\n",
      "삼성전자 갤럭시북 이온2 미스틱 화이트 노트북 NT950XDZ-A58AW (i5-1135G7 39.6cm), 포함, 256GB, 16GB 1,777,000\n",
      "에이수스 ExpertBook 그레이 노트북 B9450FA-BM0425 (i5-10210U 35.56cm), 윈도우 미포함, 512GB, 16GB 1,154,280\n"
     ]
    }
   ],
   "source": [
    "#5개 페이지 \n",
    "headers= {\"User-Agent\":\"Mozilla/5.0 (Windows NT 10.0; Win64; x64) AppleWebKit/537.36 (KHTML, like Gecko) Chrome/89.0.4389.114 Safari/537.36\"}\n",
    "\n",
    "for i in range(1, 6):\n",
    "    url = f\"https://www.coupang.com/np/search?q=%EB%85%B8%ED%8A%B8%EB%B6%81&channel=user&component=&eventCategory=SRP&trcid=&traid=&sorter=scoreDesc&minPrice=&maxPrice=&priceRange=&filterType=&listSize=36&filter=&isPriceRange=false&brand=&offerCondition=&rating=0&page={i}&rocketAll=false&searchIndexingToken=&backgroundColor=\"\n",
    "    res = requests.get(url, headers=headers)\n",
    "    res.raise_for_status()\n",
    "    soup = BeautifulSoup(res.text, \"lxml\")\n",
    "    items = soup.find_all(\"li\", attrs={\"class\": re.compile(\"^search-product\")})\n",
    "    for item in items:\n",
    "        ad_badge = item.find(\"span\", attrs={\"class\": \"ad-badge-text\"})\n",
    "        if ad_badge:\n",
    "            print(\" <광고 상품 제외합니다>\")\n",
    "            continue\n",
    "        name = item.find(\"div\", attrs={\"class\":\"name\"}).get_text() #제품명\n",
    "        price= item.find(\"strong\", attrs={\"class\": \"price-value\"}).get_text()\n",
    "        print(name, price)"
   ]
  },
  {
   "cell_type": "code",
   "execution_count": 12,
   "metadata": {},
   "outputs": [
    {
     "ename": "SyntaxError",
     "evalue": "invalid syntax (<ipython-input-12-2d7831e09f9c>, line 1)",
     "output_type": "error",
     "traceback": [
      "\u001b[1;36m  File \u001b[1;32m\"<ipython-input-12-2d7831e09f9c>\"\u001b[1;36m, line \u001b[1;32m1\u001b[0m\n\u001b[1;33m    f`asd`\u001b[0m\n\u001b[1;37m     ^\u001b[0m\n\u001b[1;31mSyntaxError\u001b[0m\u001b[1;31m:\u001b[0m invalid syntax\n"
     ]
    }
   ],
   "source": [
    "f`asd`"
   ]
  },
  {
   "cell_type": "code",
   "execution_count": null,
   "metadata": {},
   "outputs": [],
   "source": []
  }
 ],
 "metadata": {
  "kernelspec": {
   "display_name": "Python 3",
   "language": "python",
   "name": "python3"
  },
  "language_info": {
   "codemirror_mode": {
    "name": "ipython",
    "version": 3
   },
   "file_extension": ".py",
   "mimetype": "text/x-python",
   "name": "python",
   "nbconvert_exporter": "python",
   "pygments_lexer": "ipython3",
   "version": "3.7.3"
  }
 },
 "nbformat": 4,
 "nbformat_minor": 4
}
